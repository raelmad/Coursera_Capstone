{
 "cells": [
  {
   "cell_type": "markdown",
   "metadata": {},
   "source": [
    "**Introduction**"
   ]
  },
  {
   "cell_type": "markdown",
   "metadata": {},
   "source": [
    "\n",
    "New York, the city of dreams, of music, of cultural mix, of races, of opportunities for people and for companies.  A city that is home to such emblematic places as the United Nations, where the different races, languages and thoughts across the planet are reflected.\n",
    "\n",
    "A city where within its racial diversity there is a significant Latino and Hispanic community. According to a recent report released by New York City Hall, Dominicans are the largest immigrant community, followed by Chinese and thirdly by Mexicans.\n",
    "\n",
    "Information from the New York City Council establishes that in 1970 the percentage of foreign population in the city was 18%. Today this percentage has risen to 37%.\n",
    "If we look at the figures, New York's estimated population this year is 8,175,000, of which 3,024,000 are foreigners.\n",
    "\n",
    "Of this foreign population, 380,000 are Dominican (12.57%); 350,200 are Chinese (11.58%) and 186,300 are Mexican (6.16%). Jamaicans are in fourth place with 169,200 (5,602 %) and Guyanese with 139,900 (4.63 %).\n",
    "\n",
    "With regard to the Spanish community, according to the figures provided by the Spanish Consulates General in the USA, the total number of Spaniards registered in January 2020 is 180,625, compared to 170,971 in 2019, of whom 42,930 are from Spain.\n",
    "\n",
    "Spain is synonymous with many words: history, culture, fiesta and gastronomy. Spanish food is one of the most highly valued. The ratings received from diners around the world exceed the remarkable, with figures that do not go below 4 out of 5 in any case, according to the latest study recently made public by the TripAdvisor platform.\n",
    "\n",
    "This is why our client, due to the racial mix in New York, decided to open a new Spanish food restaurant in New York.\n",
    "\n",
    " Where? \n",
    "\n"
   ]
  },
  {
   "cell_type": "markdown",
   "metadata": {},
   "source": [
    "**Data**"
   ]
  },
  {
   "cell_type": "markdown",
   "metadata": {},
   "source": [
    "Data :\n",
    "\n",
    "Data from New York , where we can obtain both the list of districts and the latitude or longitude: \n",
    "Source: https://cocl.us/new_york_dataset \n",
    "\n",
    "Spanish restaurants in the neighbourhoods : To be able to locate the Spanish restaurants in New York by neighbourhood and the opinions about them. \n",
    "\n",
    "Source:  Fousquare API Description .\n",
    "\n",
    "\n"
   ]
  },
  {
   "cell_type": "code",
   "execution_count": 33,
   "metadata": {},
   "outputs": [
    {
     "name": "stdout",
     "output_type": "stream",
     "text": [
      "Libraries imported.\n"
     ]
    }
   ],
   "source": [
    "#Import Libraries\n",
    "\n",
    "import numpy as np\n",
    "import pandas as pd\n",
    "pd.set_option('display.max_columns', None)\n",
    "pd.set_option('display.max_rows', None)\n",
    "\n",
    "\n",
    "from geopy.geocoders import Nominatim\n",
    "import urllib.request\n",
    "import json\n",
    "from bs4 import BeautifulSoup\n",
    "from urllib.request import urlopen\n",
    "import requests\n",
    "from pandas.io.json import json_normalize\n",
    "\n",
    "import matplotlib.cm as cm\n",
    "import matplotlib.colors as colors\n",
    "\n",
    "import matplotlib.cm as cm\n",
    "import matplotlib.pyplot as plt\n",
    "import matplotlib.colors as colors\n",
    "%matplotlib inline\n",
    "from sklearn.cluster import KMeans\n",
    "import folium\n",
    "\n",
    "print('Libraries imported.')"
   ]
  },
  {
   "cell_type": "markdown",
   "metadata": {},
   "source": [
    "**Demographics of New York City**\n",
    "\n",
    "We will use web scraping techniques from Wikipedia in order to start the study."
   ]
  },
  {
   "cell_type": "code",
   "execution_count": 34,
   "metadata": {},
   "outputs": [],
   "source": [
    "ny_data_pop = requests.get('https://en.wikipedia.org/wiki/New_York_City').text\n",
    "soup = BeautifulSoup(ny_data_pop,'lxml')\n",
    "Neighborhoods_NYC_Table = soup.find('table', {'class':'wikitable sortable'})"
   ]
  },
  {
   "cell_type": "code",
   "execution_count": 35,
   "metadata": {},
   "outputs": [
    {
     "name": "stdout",
     "output_type": "stream",
     "text": [
      "[{'borough': 'The Bronx', 'county': 'Bronx', 'population': 1418207.0, 'gdp_billions': 42.695, 'gdp_per_capita': 30100.0}, {'borough': 'Brooklyn', 'county': 'Kings', 'population': 2559903.0, 'gdp_billions': 91.559, 'gdp_per_capita': 35800.0}, {'borough': 'Manhattan', 'county': 'New York', 'population': 1628706.0, 'gdp_billions': 600.244, 'gdp_per_capita': 368500.0}, {'borough': 'Queens', 'county': 'Queens', 'population': 2253858.0, 'gdp_billions': 93.31, 'gdp_per_capita': 41400.0}, {'borough': 'Staten Island', 'county': 'Richmond', 'population': 476143.0, 'gdp_billions': 14.514, 'gdp_per_capita': 30500.0}]\n"
     ]
    }
   ],
   "source": [
    "rows = Neighborhoods_NYC_Table.select(\"tbody > tr\")[3:8]\n",
    "\n",
    "boroughs = []\n",
    "for row in rows:\n",
    "    borough = {}\n",
    "    tds = row.select('td')\n",
    "    borough[\"borough\"] = tds[0].text.strip()\n",
    "    borough[\"county\"] = tds[1].text.strip()\n",
    "    borough[\"population\"] = float(tds[2].text.strip().replace(\",\",\"\"))\n",
    "    borough[\"gdp_billions\"] = float(tds[3].text.strip().replace(\",\",\"\"))\n",
    "    borough[\"gdp_per_capita\"] = float(tds[4].text.strip().replace(\",\",\"\"))\n",
    "\n",
    "    \n",
    "    boroughs.append(borough)\n",
    "\n",
    "print(boroughs)"
   ]
  },
  {
   "cell_type": "code",
   "execution_count": 36,
   "metadata": {},
   "outputs": [
    {
     "data": {
      "text/html": [
       "<div>\n",
       "<style scoped>\n",
       "    .dataframe tbody tr th:only-of-type {\n",
       "        vertical-align: middle;\n",
       "    }\n",
       "\n",
       "    .dataframe tbody tr th {\n",
       "        vertical-align: top;\n",
       "    }\n",
       "\n",
       "    .dataframe thead th {\n",
       "        text-align: right;\n",
       "    }\n",
       "</style>\n",
       "<table border=\"1\" class=\"dataframe\">\n",
       "  <thead>\n",
       "    <tr style=\"text-align: right;\">\n",
       "      <th></th>\n",
       "      <th>borough</th>\n",
       "      <th>county</th>\n",
       "      <th>population</th>\n",
       "      <th>gdp_per_capita</th>\n",
       "    </tr>\n",
       "  </thead>\n",
       "  <tbody>\n",
       "    <tr>\n",
       "      <th>0</th>\n",
       "      <td>The Bronx</td>\n",
       "      <td>Bronx</td>\n",
       "      <td>1418207.0</td>\n",
       "      <td>30100.0</td>\n",
       "    </tr>\n",
       "    <tr>\n",
       "      <th>1</th>\n",
       "      <td>Brooklyn</td>\n",
       "      <td>Kings</td>\n",
       "      <td>2559903.0</td>\n",
       "      <td>35800.0</td>\n",
       "    </tr>\n",
       "    <tr>\n",
       "      <th>2</th>\n",
       "      <td>Manhattan</td>\n",
       "      <td>New York</td>\n",
       "      <td>1628706.0</td>\n",
       "      <td>368500.0</td>\n",
       "    </tr>\n",
       "    <tr>\n",
       "      <th>3</th>\n",
       "      <td>Queens</td>\n",
       "      <td>Queens</td>\n",
       "      <td>2253858.0</td>\n",
       "      <td>41400.0</td>\n",
       "    </tr>\n",
       "    <tr>\n",
       "      <th>4</th>\n",
       "      <td>Staten Island</td>\n",
       "      <td>Richmond</td>\n",
       "      <td>476143.0</td>\n",
       "      <td>30500.0</td>\n",
       "    </tr>\n",
       "  </tbody>\n",
       "</table>\n",
       "</div>"
      ],
      "text/plain": [
       "         borough    county  population  gdp_per_capita\n",
       "0      The Bronx     Bronx   1418207.0         30100.0\n",
       "1       Brooklyn     Kings   2559903.0         35800.0\n",
       "2      Manhattan  New York   1628706.0        368500.0\n",
       "3         Queens    Queens   2253858.0         41400.0\n",
       "4  Staten Island  Richmond    476143.0         30500.0"
      ]
     },
     "execution_count": 36,
     "metadata": {},
     "output_type": "execute_result"
    }
   ],
   "source": [
    "df = pd.DataFrame(boroughs, columns=[\"borough\",\"county\", \"population\", \"gdp_per_capita\"]) \n",
    "df.head()"
   ]
  },
  {
   "cell_type": "markdown",
   "metadata": {},
   "source": [
    "Both Queens and Brooklyn have large populations, but Manhattan has a very very high per capita income. \n",
    "Are we interested in a \"poor\" neighborhood or a \"rich\" neighborhood?\n",
    "Let's look at more data to make the decision"
   ]
  },
  {
   "cell_type": "markdown",
   "metadata": {},
   "source": [
    "**ANALYSE THE NEIGHBOURHOODS BY THE API DE FOURSQUARE IN ORDER TO FIND OUT HOW MANY SPANISH RESTAURANTS THERE ARE** \n",
    "Define a function to obtain data on New York City, such as districts, neighborhoods, along with their latitude and longitude."
   ]
  },
  {
   "cell_type": "code",
   "execution_count": 37,
   "metadata": {},
   "outputs": [],
   "source": [
    "def get_new_york_data():\n",
    "    url='https://cocl.us/new_york_dataset'\n",
    "    resp=requests.get(url).json()\n",
    "    features=resp['features']\n",
    "    \n",
    "    # columns\n",
    "    column_names = ['Borough', 'Neighborhood', 'Latitude', 'Longitude'] \n",
    "    new_york_data = pd.DataFrame(columns=column_names)\n",
    "    \n",
    "    for data in features:\n",
    "        borough = data['properties']['borough'] \n",
    "        neighborhood_name = data['properties']['name']\n",
    "        \n",
    "        neighborhood_latlon = data['geometry']['coordinates']\n",
    "        neighborhood_lat = neighborhood_latlon[1]\n",
    "        neighborhood_lon = neighborhood_latlon[0]\n",
    "    \n",
    "        new_york_data = new_york_data.append({'Borough': borough,\n",
    "                                          'Neighborhood': neighborhood_name,\n",
    "                                          'Latitude': neighborhood_lat,\n",
    "                                          'Longitude': neighborhood_lon}, ignore_index=True)\n",
    "    \n",
    "    return new_york_data"
   ]
  },
  {
   "cell_type": "markdown",
   "metadata": {},
   "source": [
    "We defined a function to attract with the FourSquare API and get the 100 best places within a radius of 1000 meters for a given latitude and longitude."
   ]
  },
  {
   "cell_type": "code",
   "execution_count": 38,
   "metadata": {},
   "outputs": [],
   "source": [
    "def get_venues(lat,lng):\n",
    "    \n",
    "    #variables\n",
    "    radius=1000\n",
    "    LIMIT=100\n",
    "    CLIENT_ID = '0WXVHXSXC5MZBUT1EF5D0NW05XPMU4OUYSPBRIR3M5GJ5DFP'# Foursquare ID, note there is a daily call quota limit \n",
    "    CLIENT_SECRET ='E4DL5YFGF534PPHFNYSPDZPKS4ZUM2QVKFETMZM3L5ZPVHHD' # Foursquare Secret, note there is a daily call quota it\n",
    "    VERSION = '20180605' # Foursquare API version\n",
    "    \n",
    "   \n",
    "    url = 'https://api.foursquare.com/v2/venues/explore?&client_id={}&client_secret={}&v={}&ll={},{}&radius={}&limit={}'.format(\n",
    "            CLIENT_ID, \n",
    "            CLIENT_SECRET, \n",
    "            VERSION, \n",
    "            lat, \n",
    "            lng, \n",
    "            radius, \n",
    "            LIMIT)\n",
    "    \n",
    "  \n",
    "    results = requests.get(url).json()\n",
    "    venue_data=results[\"response\"]['groups'][0]['items']\n",
    "    venue_details=[]\n",
    "    for row in venue_data:\n",
    "        try:\n",
    "            venue_id=row['venue']['id']\n",
    "            venue_name=row['venue']['name']\n",
    "            venue_category=row['venue']['categories'][0]['name']\n",
    "            venue_details.append([venue_id,venue_name,venue_category])\n",
    "        except KeyError:\n",
    "            pass\n",
    "        \n",
    "    column_names=['ID','Name','Category']\n",
    "    df = pd.DataFrame(venue_details,columns=column_names)\n",
    "    return df"
   ]
  },
  {
   "cell_type": "markdown",
   "metadata": {},
   "source": [
    "Let's define a function to be able to obtain data such as rating, tips,..., that will help us to elaborate a future ranking\n",
    "\n",
    "\n"
   ]
  },
  {
   "cell_type": "code",
   "execution_count": 39,
   "metadata": {},
   "outputs": [],
   "source": [
    "\n",
    "def get_venue_details(venue_id):\n",
    "        \n",
    "    CLIENT_ID = '0WXVHXSXC5MZBUT1EF5D0NW05XPMU4OUYSPBRIR3M5GJ5DFP'\n",
    "    CLIENT_SECRET ='E4DL5YFGF534PPHFNYSPDZPKS4ZUM2QVKFETMZM3L5ZPVHHD' \n",
    "    VERSION = \"20180605\"\n",
    "    \n",
    "    url = 'https://api.foursquare.com/v2/venues/{}?&client_id={}&client_secret={}&v={}'.format(\n",
    "            venue_id,\n",
    "            CLIENT_ID, \n",
    "            CLIENT_SECRET, \n",
    "            VERSION)\n",
    "    \n",
    "    # get all the data\n",
    "    results = requests.get(url).json()\n",
    "    venue_data=results['response']['venue']\n",
    "    venue_details=[]\n",
    "    try:\n",
    "        venue_id=venue_data['id']\n",
    "        venue_name=venue_data['name']\n",
    "        venue_likes=venue_data['likes']['count']\n",
    "        venue_rating=venue_data['rating']\n",
    "        venue_tips=venue_data['tips']['count']\n",
    "        venue_details.append([venue_id,venue_name,venue_likes,venue_rating,venue_tips])\n",
    "    except KeyError:\n",
    "        pass\n",
    "        \n",
    "    column_names=['ID','Name','Likes','Rating','Tips']\n",
    "    df = pd.DataFrame(venue_details,columns=column_names)\n",
    "    return df"
   ]
  },
  {
   "cell_type": "code",
   "execution_count": 62,
   "metadata": {},
   "outputs": [
    {
     "name": "stdout",
     "output_type": "stream",
     "text": [
      "The geograpical coordinate of New York City are 40.7127281, -74.0060152.\n"
     ]
    }
   ],
   "source": [
    "#Data about NY\n",
    "\n",
    "address = 'New York City, NY'\n",
    "\n",
    "geolocator = Nominatim(user_agent=\"ny_explorer\")\n",
    "location = geolocator.geocode(address)\n",
    "latitude = location.latitude\n",
    "longitude = location.longitude\n",
    "print('The geograpical coordinate of New York City are {}, {}.'.format(latitude, longitude))"
   ]
  },
  {
   "cell_type": "code",
   "execution_count": 40,
   "metadata": {},
   "outputs": [],
   "source": [
    "new_york_data=get_new_york_data()"
   ]
  },
  {
   "cell_type": "code",
   "execution_count": 41,
   "metadata": {},
   "outputs": [
    {
     "data": {
      "text/html": [
       "<div>\n",
       "<style scoped>\n",
       "    .dataframe tbody tr th:only-of-type {\n",
       "        vertical-align: middle;\n",
       "    }\n",
       "\n",
       "    .dataframe tbody tr th {\n",
       "        vertical-align: top;\n",
       "    }\n",
       "\n",
       "    .dataframe thead th {\n",
       "        text-align: right;\n",
       "    }\n",
       "</style>\n",
       "<table border=\"1\" class=\"dataframe\">\n",
       "  <thead>\n",
       "    <tr style=\"text-align: right;\">\n",
       "      <th></th>\n",
       "      <th>Borough</th>\n",
       "      <th>Neighborhood</th>\n",
       "      <th>Latitude</th>\n",
       "      <th>Longitude</th>\n",
       "    </tr>\n",
       "  </thead>\n",
       "  <tbody>\n",
       "    <tr>\n",
       "      <th>0</th>\n",
       "      <td>Bronx</td>\n",
       "      <td>Wakefield</td>\n",
       "      <td>40.894705</td>\n",
       "      <td>-73.847201</td>\n",
       "    </tr>\n",
       "    <tr>\n",
       "      <th>1</th>\n",
       "      <td>Bronx</td>\n",
       "      <td>Co-op City</td>\n",
       "      <td>40.874294</td>\n",
       "      <td>-73.829939</td>\n",
       "    </tr>\n",
       "    <tr>\n",
       "      <th>2</th>\n",
       "      <td>Bronx</td>\n",
       "      <td>Eastchester</td>\n",
       "      <td>40.887556</td>\n",
       "      <td>-73.827806</td>\n",
       "    </tr>\n",
       "    <tr>\n",
       "      <th>3</th>\n",
       "      <td>Bronx</td>\n",
       "      <td>Fieldston</td>\n",
       "      <td>40.895437</td>\n",
       "      <td>-73.905643</td>\n",
       "    </tr>\n",
       "    <tr>\n",
       "      <th>4</th>\n",
       "      <td>Bronx</td>\n",
       "      <td>Riverdale</td>\n",
       "      <td>40.890834</td>\n",
       "      <td>-73.912585</td>\n",
       "    </tr>\n",
       "  </tbody>\n",
       "</table>\n",
       "</div>"
      ],
      "text/plain": [
       "  Borough Neighborhood   Latitude  Longitude\n",
       "0   Bronx    Wakefield  40.894705 -73.847201\n",
       "1   Bronx   Co-op City  40.874294 -73.829939\n",
       "2   Bronx  Eastchester  40.887556 -73.827806\n",
       "3   Bronx    Fieldston  40.895437 -73.905643\n",
       "4   Bronx    Riverdale  40.890834 -73.912585"
      ]
     },
     "execution_count": 41,
     "metadata": {},
     "output_type": "execute_result"
    }
   ],
   "source": [
    "new_york_data.head()"
   ]
  },
  {
   "cell_type": "code",
   "execution_count": 42,
   "metadata": {
    "scrolled": true
   },
   "outputs": [
    {
     "data": {
      "text/html": [
       "<div>\n",
       "<style scoped>\n",
       "    .dataframe tbody tr th:only-of-type {\n",
       "        vertical-align: middle;\n",
       "    }\n",
       "\n",
       "    .dataframe tbody tr th {\n",
       "        vertical-align: top;\n",
       "    }\n",
       "\n",
       "    .dataframe thead th {\n",
       "        text-align: right;\n",
       "    }\n",
       "</style>\n",
       "<table border=\"1\" class=\"dataframe\">\n",
       "  <thead>\n",
       "    <tr style=\"text-align: right;\">\n",
       "      <th></th>\n",
       "      <th>Borough</th>\n",
       "      <th>Neighborhood</th>\n",
       "      <th>Latitude</th>\n",
       "      <th>Longitude</th>\n",
       "    </tr>\n",
       "  </thead>\n",
       "  <tbody>\n",
       "    <tr>\n",
       "      <th>301</th>\n",
       "      <td>Manhattan</td>\n",
       "      <td>Hudson Yards</td>\n",
       "      <td>40.756658</td>\n",
       "      <td>-74.000111</td>\n",
       "    </tr>\n",
       "    <tr>\n",
       "      <th>302</th>\n",
       "      <td>Queens</td>\n",
       "      <td>Hammels</td>\n",
       "      <td>40.587338</td>\n",
       "      <td>-73.805530</td>\n",
       "    </tr>\n",
       "    <tr>\n",
       "      <th>303</th>\n",
       "      <td>Queens</td>\n",
       "      <td>Bayswater</td>\n",
       "      <td>40.611322</td>\n",
       "      <td>-73.765968</td>\n",
       "    </tr>\n",
       "    <tr>\n",
       "      <th>304</th>\n",
       "      <td>Queens</td>\n",
       "      <td>Queensbridge</td>\n",
       "      <td>40.756091</td>\n",
       "      <td>-73.945631</td>\n",
       "    </tr>\n",
       "    <tr>\n",
       "      <th>305</th>\n",
       "      <td>Staten Island</td>\n",
       "      <td>Fox Hills</td>\n",
       "      <td>40.617311</td>\n",
       "      <td>-74.081740</td>\n",
       "    </tr>\n",
       "  </tbody>\n",
       "</table>\n",
       "</div>"
      ],
      "text/plain": [
       "           Borough  Neighborhood   Latitude  Longitude\n",
       "301      Manhattan  Hudson Yards  40.756658 -74.000111\n",
       "302         Queens       Hammels  40.587338 -73.805530\n",
       "303         Queens     Bayswater  40.611322 -73.765968\n",
       "304         Queens  Queensbridge  40.756091 -73.945631\n",
       "305  Staten Island     Fox Hills  40.617311 -74.081740"
      ]
     },
     "execution_count": 42,
     "metadata": {},
     "output_type": "execute_result"
    }
   ],
   "source": [
    "new_york_data.tail()"
   ]
  },
  {
   "cell_type": "code",
   "execution_count": 43,
   "metadata": {},
   "outputs": [
    {
     "data": {
      "text/plain": [
       "(306, 4)"
      ]
     },
     "execution_count": 43,
     "metadata": {},
     "output_type": "execute_result"
    }
   ],
   "source": [
    "new_york_data.shape"
   ]
  },
  {
   "cell_type": "code",
   "execution_count": 44,
   "metadata": {},
   "outputs": [],
   "source": [
    "#NewYork has 306 different Neighborhood. ¡That´s impresionant! Paris has 100 and Madrid has 131. "
   ]
  },
  {
   "cell_type": "code",
   "execution_count": 45,
   "metadata": {},
   "outputs": [
    {
     "data": {
      "image/png": "[encoded data removed]",
      "text/plain": [
       "<Figure size 720x400 with 1 Axes>"
      ]
     },
     "metadata": {},
     "output_type": "display_data"
    }
   ],
   "source": [
    "from matplotlib import pyplot as plt\n",
    "plt.style.use('ggplot')\n",
    "\n",
    "plt.figure(figsize=(9,5), dpi = 80)\n",
    "plt.title('Number of Neighbourhood in NYC by Borough')\n",
    "plt.xlabel('Borough', fontsize = 15)\n",
    "plt.ylabel('No.of Neighborhood', fontsize=15)\n",
    "new_york_data.groupby('Borough')['Neighborhood'].count().plot(kind='bar')\n",
    "plt.legend()\n",
    "plt.show()"
   ]
  },
  {
   "cell_type": "code",
   "execution_count": 46,
   "metadata": {},
   "outputs": [],
   "source": [
    "# Queens is the district where there are more neighborhoods, but we started to analyze the Spanish restaurants in New York. In which neighbourhood would it be best to set up a Spanish restaurant? "
   ]
  },
  {
   "cell_type": "code",
   "execution_count": 51,
   "metadata": {},
   "outputs": [
    {
     "name": "stdout",
     "output_type": "stream",
     "text": [
      "( 1 / 306 ) Spanish Resturants in Wakefield, Bronx:1\n",
      "( 2 / 306 ) Spanish Resturants in Co-op City, Bronx:1\n",
      "( 3 / 306 ) Spanish Resturants in Eastchester, Bronx:0\n",
      "( 4 / 306 ) Spanish Resturants in Fieldston, Bronx:0\n",
      "( 5 / 306 ) Spanish Resturants in Riverdale, Bronx:0\n",
      "( 6 / 306 ) Spanish Resturants in Kingsbridge, Bronx:2\n",
      "( 7 / 306 ) Spanish Resturants in Marble Hill, Manhattan:4\n",
      "( 8 / 306 ) Spanish Resturants in Woodlawn, Bronx:0\n",
      "( 9 / 306 ) Spanish Resturants in Norwood, Bronx:2\n",
      "( 10 / 306 ) Spanish Resturants in Williamsbridge, Bronx:0\n",
      "( 11 / 306 ) Spanish Resturants in Baychester, Bronx:2\n",
      "( 12 / 306 ) Spanish Resturants in Pelham Parkway, Bronx:0\n",
      "( 13 / 306 ) Spanish Resturants in City Island, Bronx:1\n",
      "( 14 / 306 ) Spanish Resturants in Bedford Park, Bronx:2\n",
      "( 15 / 306 ) Spanish Resturants in University Heights, Bronx:3\n",
      "( 16 / 306 ) Spanish Resturants in Morris Heights, Bronx:2\n",
      "( 17 / 306 ) Spanish Resturants in Fordham, Bronx:5\n",
      "( 18 / 306 ) Spanish Resturants in East Tremont, Bronx:0\n",
      "( 19 / 306 ) Spanish Resturants in West Farms, Bronx:0\n",
      "( 20 / 306 ) Spanish Resturants in High  Bridge, Bronx:0\n",
      "( 21 / 306 ) Spanish Resturants in Melrose, Bronx:2\n",
      "( 22 / 306 ) Spanish Resturants in Mott Haven, Bronx:1\n",
      "( 23 / 306 ) Spanish Resturants in Port Morris, Bronx:0\n",
      "( 24 / 306 ) Spanish Resturants in Longwood, Bronx:2\n",
      "( 25 / 306 ) Spanish Resturants in Hunts Point, Bronx:1\n",
      "( 26 / 306 ) Spanish Resturants in Morrisania, Bronx:1\n",
      "( 27 / 306 ) Spanish Resturants in Soundview, Bronx:0\n",
      "( 28 / 306 ) Spanish Resturants in Clason Point, Bronx:0\n",
      "( 29 / 306 ) Spanish Resturants in Throgs Neck, Bronx:0\n",
      "( 30 / 306 ) Spanish Resturants in Country Club, Bronx:0\n",
      "( 31 / 306 ) Spanish Resturants in Parkchester, Bronx:3\n",
      "( 32 / 306 ) Spanish Resturants in Westchester Square, Bronx:1\n",
      "( 33 / 306 ) Spanish Resturants in Van Nest, Bronx:3\n",
      "( 34 / 306 ) Spanish Resturants in Morris Park, Bronx:2\n",
      "( 35 / 306 ) Spanish Resturants in Belmont, Bronx:2\n",
      "( 36 / 306 ) Spanish Resturants in Spuyten Duyvil, Bronx:0\n",
      "( 37 / 306 ) Spanish Resturants in North Riverdale, Bronx:0\n",
      "( 38 / 306 ) Spanish Resturants in Pelham Bay, Bronx:0\n",
      "( 39 / 306 ) Spanish Resturants in Schuylerville, Bronx:0\n",
      "( 40 / 306 ) Spanish Resturants in Edgewater Park, Bronx:0\n",
      "( 41 / 306 ) Spanish Resturants in Castle Hill, Bronx:0\n",
      "( 42 / 306 ) Spanish Resturants in Olinville, Bronx:0\n",
      "( 43 / 306 ) Spanish Resturants in Pelham Gardens, Bronx:2\n",
      "( 44 / 306 ) Spanish Resturants in Concourse, Bronx:2\n",
      "( 45 / 306 ) Spanish Resturants in Unionport, Bronx:2\n",
      "( 46 / 306 ) Spanish Resturants in Edenwald, Bronx:0\n",
      "( 47 / 306 ) Spanish Resturants in Bay Ridge, Brooklyn:0\n",
      "( 48 / 306 ) Spanish Resturants in Bensonhurst, Brooklyn:0\n",
      "( 49 / 306 ) Spanish Resturants in Sunset Park, Brooklyn:2\n",
      "( 50 / 306 ) Spanish Resturants in Greenpoint, Brooklyn:0\n",
      "( 51 / 306 ) Spanish Resturants in Gravesend, Brooklyn:0\n",
      "( 52 / 306 ) Spanish Resturants in Brighton Beach, Brooklyn:0\n",
      "( 53 / 306 ) Spanish Resturants in Sheepshead Bay, Brooklyn:0\n",
      "( 54 / 306 ) Spanish Resturants in Manhattan Terrace, Brooklyn:0\n",
      "( 55 / 306 ) Spanish Resturants in Flatbush, Brooklyn:0\n",
      "( 56 / 306 ) Spanish Resturants in Crown Heights, Brooklyn:0\n",
      "( 57 / 306 ) Spanish Resturants in East Flatbush, Brooklyn:0\n",
      "( 58 / 306 ) Spanish Resturants in Kensington, Brooklyn:0\n",
      "( 59 / 306 ) Spanish Resturants in Windsor Terrace, Brooklyn:0\n",
      "( 60 / 306 ) Spanish Resturants in Prospect Heights, Brooklyn:0\n",
      "( 61 / 306 ) Spanish Resturants in Brownsville, Brooklyn:1\n",
      "( 62 / 306 ) Spanish Resturants in Williamsburg, Brooklyn:0\n",
      "( 63 / 306 ) Spanish Resturants in Bushwick, Brooklyn:0\n",
      "( 64 / 306 ) Spanish Resturants in Bedford Stuyvesant, Brooklyn:0\n",
      "( 65 / 306 ) Spanish Resturants in Brooklyn Heights, Brooklyn:0\n",
      "( 66 / 306 ) Spanish Resturants in Cobble Hill, Brooklyn:1\n",
      "( 67 / 306 ) Spanish Resturants in Carroll Gardens, Brooklyn:0\n",
      "( 68 / 306 ) Spanish Resturants in Red Hook, Brooklyn:0\n",
      "( 69 / 306 ) Spanish Resturants in Gowanus, Brooklyn:0\n",
      "( 70 / 306 ) Spanish Resturants in Fort Greene, Brooklyn:0\n",
      "( 71 / 306 ) Spanish Resturants in Park Slope, Brooklyn:0\n",
      "( 72 / 306 ) Spanish Resturants in Cypress Hills, Brooklyn:0\n",
      "( 73 / 306 ) Spanish Resturants in East New York, Brooklyn:1\n",
      "( 74 / 306 ) Spanish Resturants in Starrett City, Brooklyn:0\n",
      "( 75 / 306 ) Spanish Resturants in Canarsie, Brooklyn:0\n",
      "( 76 / 306 ) Spanish Resturants in Flatlands, Brooklyn:0\n",
      "( 77 / 306 ) Spanish Resturants in Mill Island, Brooklyn:0\n",
      "( 78 / 306 ) Spanish Resturants in Manhattan Beach, Brooklyn:0\n",
      "( 79 / 306 ) Spanish Resturants in Coney Island, Brooklyn:0\n",
      "( 80 / 306 ) Spanish Resturants in Bath Beach, Brooklyn:0\n",
      "( 81 / 306 ) Spanish Resturants in Borough Park, Brooklyn:0\n",
      "( 82 / 306 ) Spanish Resturants in Dyker Heights, Brooklyn:1\n",
      "( 83 / 306 ) Spanish Resturants in Gerritsen Beach, Brooklyn:0\n",
      "( 84 / 306 ) Spanish Resturants in Marine Park, Brooklyn:0\n",
      "( 85 / 306 ) Spanish Resturants in Clinton Hill, Brooklyn:0\n",
      "( 86 / 306 ) Spanish Resturants in Sea Gate, Brooklyn:0\n",
      "( 87 / 306 ) Spanish Resturants in Downtown, Brooklyn:0\n",
      "( 88 / 306 ) Spanish Resturants in Boerum Hill, Brooklyn:0\n",
      "( 89 / 306 ) Spanish Resturants in Prospect Lefferts Gardens, Brooklyn:1\n",
      "( 90 / 306 ) Spanish Resturants in Ocean Hill, Brooklyn:1\n",
      "( 91 / 306 ) Spanish Resturants in City Line, Brooklyn:1\n",
      "( 92 / 306 ) Spanish Resturants in Bergen Beach, Brooklyn:0\n",
      "( 93 / 306 ) Spanish Resturants in Midwood, Brooklyn:0\n",
      "( 94 / 306 ) Spanish Resturants in Prospect Park South, Brooklyn:0\n",
      "( 95 / 306 ) Spanish Resturants in Georgetown, Brooklyn:0\n",
      "( 96 / 306 ) Spanish Resturants in East Williamsburg, Brooklyn:0\n",
      "( 97 / 306 ) Spanish Resturants in North Side, Brooklyn:0\n",
      "( 98 / 306 ) Spanish Resturants in South Side, Brooklyn:0\n",
      "( 99 / 306 ) Spanish Resturants in Ocean Parkway, Brooklyn:0\n",
      "( 100 / 306 ) Spanish Resturants in Fort Hamilton, Brooklyn:1\n",
      "( 101 / 306 ) Spanish Resturants in Chinatown, Manhattan:1\n",
      "( 102 / 306 ) Spanish Resturants in Washington Heights, Manhattan:3\n",
      "( 103 / 306 ) Spanish Resturants in Inwood, Manhattan:3\n",
      "( 104 / 306 ) Spanish Resturants in Hamilton Heights, Manhattan:2\n",
      "( 105 / 306 ) Spanish Resturants in Manhattanville, Manhattan:1\n",
      "( 106 / 306 ) Spanish Resturants in Central Harlem, Manhattan:1\n",
      "( 107 / 306 ) Spanish Resturants in East Harlem, Manhattan:1\n",
      "( 108 / 306 ) Spanish Resturants in Upper East Side, Manhattan:2\n",
      "( 109 / 306 ) Spanish Resturants in Yorkville, Manhattan:0\n",
      "( 110 / 306 ) Spanish Resturants in Lenox Hill, Manhattan:2\n",
      "( 111 / 306 ) Spanish Resturants in Roosevelt Island, Manhattan:0\n",
      "( 112 / 306 ) Spanish Resturants in Upper West Side, Manhattan:0\n",
      "( 113 / 306 ) Spanish Resturants in Lincoln Square, Manhattan:0\n",
      "( 114 / 306 ) Spanish Resturants in Clinton, Manhattan:0\n",
      "( 115 / 306 ) Spanish Resturants in Midtown, Manhattan:0\n",
      "( 116 / 306 ) Spanish Resturants in Murray Hill, Manhattan:0\n",
      "( 117 / 306 ) Spanish Resturants in Chelsea, Manhattan:0\n",
      "( 118 / 306 ) Spanish Resturants in Greenwich Village, Manhattan:0\n",
      "( 119 / 306 ) Spanish Resturants in East Village, Manhattan:1\n",
      "( 120 / 306 ) Spanish Resturants in Lower East Side, Manhattan:0\n",
      "( 121 / 306 ) Spanish Resturants in Tribeca, Manhattan:0\n",
      "( 122 / 306 ) Spanish Resturants in Little Italy, Manhattan:1\n",
      "( 123 / 306 ) Spanish Resturants in Soho, Manhattan:1\n",
      "( 124 / 306 ) Spanish Resturants in West Village, Manhattan:0\n",
      "( 125 / 306 ) Spanish Resturants in Manhattan Valley, Manhattan:0\n",
      "( 126 / 306 ) Spanish Resturants in Morningside Heights, Manhattan:0\n",
      "( 127 / 306 ) Spanish Resturants in Gramercy, Manhattan:1\n",
      "( 128 / 306 ) Spanish Resturants in Battery Park City, Manhattan:0\n",
      "( 129 / 306 ) Spanish Resturants in Financial District, Manhattan:0\n",
      "( 130 / 306 ) Spanish Resturants in Astoria, Queens:0\n",
      "( 131 / 306 ) Spanish Resturants in Woodside, Queens:0\n"
     ]
    },
    {
     "ename": "KeyError",
     "evalue": "'groups'",
     "output_type": "error",
     "traceback": [
      "\u001b[0;31m---------------------------------------------------------------------------\u001b[0m",
      "\u001b[0;31mKeyError\u001b[0m                                  Traceback (most recent call last)",
      "\u001b[0;32m<ipython-input-51-458903a444f1>\u001b[0m in \u001b[0;36m<module>\u001b[0;34m\u001b[0m\n\u001b[1;32m      4\u001b[0m \u001b[0;32mfor\u001b[0m \u001b[0mrow\u001b[0m \u001b[0;32min\u001b[0m \u001b[0mnew_york_data\u001b[0m\u001b[0;34m.\u001b[0m\u001b[0mvalues\u001b[0m\u001b[0;34m.\u001b[0m\u001b[0mtolist\u001b[0m\u001b[0;34m(\u001b[0m\u001b[0;34m)\u001b[0m\u001b[0;34m:\u001b[0m\u001b[0;34m\u001b[0m\u001b[0;34m\u001b[0m\u001b[0m\n\u001b[1;32m      5\u001b[0m     \u001b[0mBorough\u001b[0m\u001b[0;34m,\u001b[0m \u001b[0mNeighborhood\u001b[0m\u001b[0;34m,\u001b[0m \u001b[0mLatitude\u001b[0m\u001b[0;34m,\u001b[0m \u001b[0mLongitude\u001b[0m\u001b[0;34m=\u001b[0m\u001b[0mrow\u001b[0m\u001b[0;34m\u001b[0m\u001b[0;34m\u001b[0m\u001b[0m\n\u001b[0;32m----> 6\u001b[0;31m     \u001b[0mvenues\u001b[0m \u001b[0;34m=\u001b[0m \u001b[0mget_venues\u001b[0m\u001b[0;34m(\u001b[0m\u001b[0mLatitude\u001b[0m\u001b[0;34m,\u001b[0m\u001b[0mLongitude\u001b[0m\u001b[0;34m)\u001b[0m\u001b[0;34m\u001b[0m\u001b[0;34m\u001b[0m\u001b[0m\n\u001b[0m\u001b[1;32m      7\u001b[0m     \u001b[0mspanish_resturants\u001b[0m\u001b[0;34m=\u001b[0m\u001b[0mvenues\u001b[0m\u001b[0;34m[\u001b[0m\u001b[0mvenues\u001b[0m\u001b[0;34m[\u001b[0m\u001b[0;34m'Category'\u001b[0m\u001b[0;34m]\u001b[0m\u001b[0;34m==\u001b[0m\u001b[0;34m'Spanish Restaurant'\u001b[0m\u001b[0;34m]\u001b[0m\u001b[0;34m\u001b[0m\u001b[0;34m\u001b[0m\u001b[0m\n\u001b[1;32m      8\u001b[0m     \u001b[0mprint\u001b[0m\u001b[0;34m(\u001b[0m\u001b[0;34m'('\u001b[0m\u001b[0;34m,\u001b[0m\u001b[0mcount\u001b[0m\u001b[0;34m,\u001b[0m\u001b[0;34m'/'\u001b[0m\u001b[0;34m,\u001b[0m\u001b[0mlen\u001b[0m\u001b[0;34m(\u001b[0m\u001b[0mnew_york_data\u001b[0m\u001b[0;34m)\u001b[0m\u001b[0;34m,\u001b[0m\u001b[0;34m')'\u001b[0m\u001b[0;34m,\u001b[0m\u001b[0;34m'Spanish Resturants in '\u001b[0m\u001b[0;34m+\u001b[0m\u001b[0mNeighborhood\u001b[0m\u001b[0;34m+\u001b[0m\u001b[0;34m', '\u001b[0m\u001b[0;34m+\u001b[0m\u001b[0mBorough\u001b[0m\u001b[0;34m+\u001b[0m\u001b[0;34m':'\u001b[0m\u001b[0;34m+\u001b[0m\u001b[0mstr\u001b[0m\u001b[0;34m(\u001b[0m\u001b[0mlen\u001b[0m\u001b[0;34m(\u001b[0m\u001b[0mspanish_resturants\u001b[0m\u001b[0;34m)\u001b[0m\u001b[0;34m)\u001b[0m\u001b[0;34m)\u001b[0m\u001b[0;34m\u001b[0m\u001b[0;34m\u001b[0m\u001b[0m\n",
      "\u001b[0;32m<ipython-input-38-993416698191>\u001b[0m in \u001b[0;36mget_venues\u001b[0;34m(lat, lng)\u001b[0m\n\u001b[1;32m     20\u001b[0m \u001b[0;34m\u001b[0m\u001b[0m\n\u001b[1;32m     21\u001b[0m     \u001b[0mresults\u001b[0m \u001b[0;34m=\u001b[0m \u001b[0mrequests\u001b[0m\u001b[0;34m.\u001b[0m\u001b[0mget\u001b[0m\u001b[0;34m(\u001b[0m\u001b[0murl\u001b[0m\u001b[0;34m)\u001b[0m\u001b[0;34m.\u001b[0m\u001b[0mjson\u001b[0m\u001b[0;34m(\u001b[0m\u001b[0;34m)\u001b[0m\u001b[0;34m\u001b[0m\u001b[0;34m\u001b[0m\u001b[0m\n\u001b[0;32m---> 22\u001b[0;31m     \u001b[0mvenue_data\u001b[0m\u001b[0;34m=\u001b[0m\u001b[0mresults\u001b[0m\u001b[0;34m[\u001b[0m\u001b[0;34m\"response\"\u001b[0m\u001b[0;34m]\u001b[0m\u001b[0;34m[\u001b[0m\u001b[0;34m'groups'\u001b[0m\u001b[0;34m]\u001b[0m\u001b[0;34m[\u001b[0m\u001b[0;36m0\u001b[0m\u001b[0;34m]\u001b[0m\u001b[0;34m[\u001b[0m\u001b[0;34m'items'\u001b[0m\u001b[0;34m]\u001b[0m\u001b[0;34m\u001b[0m\u001b[0;34m\u001b[0m\u001b[0m\n\u001b[0m\u001b[1;32m     23\u001b[0m     \u001b[0mvenue_details\u001b[0m\u001b[0;34m=\u001b[0m\u001b[0;34m[\u001b[0m\u001b[0;34m]\u001b[0m\u001b[0;34m\u001b[0m\u001b[0;34m\u001b[0m\u001b[0m\n\u001b[1;32m     24\u001b[0m     \u001b[0;32mfor\u001b[0m \u001b[0mrow\u001b[0m \u001b[0;32min\u001b[0m \u001b[0mvenue_data\u001b[0m\u001b[0;34m:\u001b[0m\u001b[0;34m\u001b[0m\u001b[0;34m\u001b[0m\u001b[0m\n",
      "\u001b[0;31mKeyError\u001b[0m: 'groups'"
     ]
    }
   ],
   "source": [
    "column_names=['Borough', 'Neighborhood', 'ID','Name']\n",
    "spanish_rest_ny=pd.DataFrame(columns=column_names)\n",
    "count=1\n",
    "for row in new_york_data.values.tolist():\n",
    "    Borough, Neighborhood, Latitude, Longitude=row\n",
    "    venues = get_venues(Latitude,Longitude)\n",
    "    spanish_resturants=venues[venues['Category']=='Spanish Restaurant']   \n",
    "    print('(',count,'/',len(new_york_data),')','Spanish Resturants in '+Neighborhood+', '+Borough+':'+str(len(spanish_resturants)))\n",
    "    for resturant_detail in spanish_resturants.values.tolist():\n",
    "        id, name , category=resturant_detail\n",
    "        spanish_rest_ny = spanish_rest_ny.append({'Borough': Borough,\n",
    "                                                'Neighborhood': Neighborhood, \n",
    "                                                'ID': id,\n",
    "                                                'Name' : name\n",
    "                                               }, ignore_index=True)\n",
    "    count+=1"
   ]
  },
  {
   "cell_type": "code",
   "execution_count": 49,
   "metadata": {},
   "outputs": [
    {
     "data": {
      "text/html": [
       "<div>\n",
       "<style scoped>\n",
       "    .dataframe tbody tr th:only-of-type {\n",
       "        vertical-align: middle;\n",
       "    }\n",
       "\n",
       "    .dataframe tbody tr th {\n",
       "        vertical-align: top;\n",
       "    }\n",
       "\n",
       "    .dataframe thead th {\n",
       "        text-align: right;\n",
       "    }\n",
       "</style>\n",
       "<table border=\"1\" class=\"dataframe\">\n",
       "  <thead>\n",
       "    <tr style=\"text-align: right;\">\n",
       "      <th></th>\n",
       "      <th>Borough</th>\n",
       "      <th>Neighborhood</th>\n",
       "      <th>ID</th>\n",
       "      <th>Name</th>\n",
       "    </tr>\n",
       "  </thead>\n",
       "  <tbody>\n",
       "    <tr>\n",
       "      <th>0</th>\n",
       "      <td>Bronx</td>\n",
       "      <td>Wakefield</td>\n",
       "      <td>4bec3ac661aca5935cfe8500</td>\n",
       "      <td>El Mangu Tipico Restaurant</td>\n",
       "    </tr>\n",
       "    <tr>\n",
       "      <th>1</th>\n",
       "      <td>Bronx</td>\n",
       "      <td>Co-op City</td>\n",
       "      <td>58a9ca678ae363643f8827a2</td>\n",
       "      <td>Sangria Cafe</td>\n",
       "    </tr>\n",
       "    <tr>\n",
       "      <th>2</th>\n",
       "      <td>Bronx</td>\n",
       "      <td>Kingsbridge</td>\n",
       "      <td>4ca785a597c8a1cd7e577ba5</td>\n",
       "      <td>El Economico Restaurant</td>\n",
       "    </tr>\n",
       "    <tr>\n",
       "      <th>3</th>\n",
       "      <td>Bronx</td>\n",
       "      <td>Kingsbridge</td>\n",
       "      <td>50ea5611e4b044bdeead3ade</td>\n",
       "      <td>Q'Kachapa</td>\n",
       "    </tr>\n",
       "    <tr>\n",
       "      <th>4</th>\n",
       "      <td>Manhattan</td>\n",
       "      <td>Marble Hill</td>\n",
       "      <td>4ca785a597c8a1cd7e577ba5</td>\n",
       "      <td>El Economico Restaurant</td>\n",
       "    </tr>\n",
       "  </tbody>\n",
       "</table>\n",
       "</div>"
      ],
      "text/plain": [
       "     Borough Neighborhood                        ID  \\\n",
       "0      Bronx    Wakefield  4bec3ac661aca5935cfe8500   \n",
       "1      Bronx   Co-op City  58a9ca678ae363643f8827a2   \n",
       "2      Bronx  Kingsbridge  4ca785a597c8a1cd7e577ba5   \n",
       "3      Bronx  Kingsbridge  50ea5611e4b044bdeead3ade   \n",
       "4  Manhattan  Marble Hill  4ca785a597c8a1cd7e577ba5   \n",
       "\n",
       "                         Name  \n",
       "0  El Mangu Tipico Restaurant  \n",
       "1                Sangria Cafe  \n",
       "2     El Economico Restaurant  \n",
       "3                   Q'Kachapa  \n",
       "4     El Economico Restaurant  "
      ]
     },
     "execution_count": 49,
     "metadata": {},
     "output_type": "execute_result"
    }
   ],
   "source": [
    "spanish_rest_ny.head()"
   ]
  },
  {
   "cell_type": "code",
   "execution_count": 91,
   "metadata": {},
   "outputs": [
    {
     "data": {
      "text/plain": [
       "(115, 4)"
      ]
     },
     "execution_count": 91,
     "metadata": {},
     "output_type": "execute_result"
    }
   ],
   "source": [
    "spanish_rest_ny.shape"
   ]
  },
  {
   "cell_type": "code",
   "execution_count": null,
   "metadata": {},
   "outputs": [],
   "source": [
    "#115 spanish restaurants in all NeW yORK"
   ]
  },
  {
   "cell_type": "code",
   "execution_count": 50,
   "metadata": {
    "scrolled": true
   },
   "outputs": [
    {
     "data": {
      "image/png": "[encoded data removed]",
      "text/plain": [
       "<Figure size 1200x500 with 1 Axes>"
      ]
     },
     "metadata": {},
     "output_type": "display_data"
    }
   ],
   "source": [
    "from matplotlib import pyplot as plt\n",
    "plt.style.use('ggplot')\n",
    "\n",
    "plt.figure(figsize=(12,5), dpi = 100)\n",
    "plt.title('Spanish Restaurants in NYC by Borough')\n",
    "plt.xlabel('Borough', fontsize = 15)\n",
    "plt.ylabel('Spanishs Restaurant', fontsize=15)\n",
    "spanish_rest_ny.groupby('Borough')['ID'].count().plot(kind='bar')\n",
    "plt.legend()\n",
    "plt.show()"
   ]
  },
  {
   "cell_type": "code",
   "execution_count": 52,
   "metadata": {},
   "outputs": [
    {
     "data": {
      "text/html": [
       "<div>\n",
       "<style scoped>\n",
       "    .dataframe tbody tr th:only-of-type {\n",
       "        vertical-align: middle;\n",
       "    }\n",
       "\n",
       "    .dataframe tbody tr th {\n",
       "        vertical-align: top;\n",
       "    }\n",
       "\n",
       "    .dataframe thead th {\n",
       "        text-align: right;\n",
       "    }\n",
       "</style>\n",
       "<table border=\"1\" class=\"dataframe\">\n",
       "  <thead>\n",
       "    <tr style=\"text-align: right;\">\n",
       "      <th></th>\n",
       "      <th>Borough</th>\n",
       "      <th>Neighborhood</th>\n",
       "      <th>Latitude</th>\n",
       "      <th>Longitude</th>\n",
       "    </tr>\n",
       "  </thead>\n",
       "  <tbody>\n",
       "    <tr>\n",
       "      <th>0</th>\n",
       "      <td>Bronx</td>\n",
       "      <td>Wakefield</td>\n",
       "      <td>40.894705</td>\n",
       "      <td>-73.847201</td>\n",
       "    </tr>\n",
       "    <tr>\n",
       "      <th>1</th>\n",
       "      <td>Bronx</td>\n",
       "      <td>Co-op City</td>\n",
       "      <td>40.874294</td>\n",
       "      <td>-73.829939</td>\n",
       "    </tr>\n",
       "    <tr>\n",
       "      <th>2</th>\n",
       "      <td>Bronx</td>\n",
       "      <td>Eastchester</td>\n",
       "      <td>40.887556</td>\n",
       "      <td>-73.827806</td>\n",
       "    </tr>\n",
       "    <tr>\n",
       "      <th>3</th>\n",
       "      <td>Bronx</td>\n",
       "      <td>Fieldston</td>\n",
       "      <td>40.895437</td>\n",
       "      <td>-73.905643</td>\n",
       "    </tr>\n",
       "    <tr>\n",
       "      <th>4</th>\n",
       "      <td>Bronx</td>\n",
       "      <td>Riverdale</td>\n",
       "      <td>40.890834</td>\n",
       "      <td>-73.912585</td>\n",
       "    </tr>\n",
       "  </tbody>\n",
       "</table>\n",
       "</div>"
      ],
      "text/plain": [
       "  Borough Neighborhood   Latitude  Longitude\n",
       "0   Bronx    Wakefield  40.894705 -73.847201\n",
       "1   Bronx   Co-op City  40.874294 -73.829939\n",
       "2   Bronx  Eastchester  40.887556 -73.827806\n",
       "3   Bronx    Fieldston  40.895437 -73.905643\n",
       "4   Bronx    Riverdale  40.890834 -73.912585"
      ]
     },
     "execution_count": 52,
     "metadata": {},
     "output_type": "execute_result"
    }
   ],
   "source": [
    "bronx_data = new_york_data[new_york_data['Borough'] == 'Bronx'].reset_index(drop=True)\n",
    "bronx_data.head()"
   ]
  },
  {
   "cell_type": "markdown",
   "metadata": {},
   "source": [
    "Número de restaurantes en Bronx"
   ]
  },
  {
   "cell_type": "code",
   "execution_count": 25,
   "metadata": {},
   "outputs": [
    {
     "data": {
      "text/plain": [
       "(52, 4)"
      ]
     },
     "execution_count": 25,
     "metadata": {},
     "output_type": "execute_result"
    }
   ],
   "source": [
    "bronx_data.shape"
   ]
  },
  {
   "cell_type": "code",
   "execution_count": null,
   "metadata": {},
   "outputs": [],
   "source": [
    "# 52 restaurants in Bronx. ¿How many Spanish restaurants are there per borough?"
   ]
  },
  {
   "cell_type": "code",
   "execution_count": 53,
   "metadata": {},
   "outputs": [
    {
     "data": {
      "image/png": "[encoded data removed]",
      "text/plain": [
       "<Figure size 1200x500 with 1 Axes>"
      ]
     },
     "metadata": {},
     "output_type": "display_data"
    }
   ],
   "source": [
    "from matplotlib import pyplot as plt\n",
    "plt.style.use('ggplot')\n",
    "plt.figure(figsize=(12,5), dpi = 100)\n",
    "plt.title('Spanish Restaurants by Neighbourhood')\n",
    "plt.xlabel('Neighborhood', fontsize = 15)\n",
    "plt.ylabel('Spanish Restaurants', fontsize=15)\n",
    "spanish_rest_ny.groupby('Neighborhood')['ID'].count().nlargest(5).plot(kind='bar')\n",
    "plt.legend()\n",
    "plt.show()"
   ]
  },
  {
   "cell_type": "code",
   "execution_count": null,
   "metadata": {},
   "outputs": [],
   "source": [
    "#Analysis of the ethnic groups in the neighbourhoods"
   ]
  },
  {
   "cell_type": "code",
   "execution_count": 59,
   "metadata": {},
   "outputs": [
    {
     "name": "stdout",
     "output_type": "stream",
     "text": [
      "[{'jurisdiction': 'Queens', 'population_census': '2,229,379', '%_white': 44.1, '%_black_or_african_amercian': 20.0, '%_Asian': 17.6, '%_other': 12.3, '%_mixed_race': 6.1, '%_hispanic_latino_of_other_race': 25.0, '%_catholic': 37.0, '%_jewish': 5.0}, {'jurisdiction': 'Manhattan', 'population_census': '1,537,195', '%_white': 54.4, '%_black_or_african_amercian': 17.4, '%_Asian': 9.4, '%_other': 14.7, '%_mixed_race': 4.1, '%_hispanic_latino_of_other_race': 27.2, '%_catholic': 11.0, '%_jewish': 9.0}, {'jurisdiction': 'Bronx', 'population_census': '1,332,650', '%_white': 29.9, '%_black_or_african_amercian': 35.6, '%_Asian': 3.0, '%_other': 25.7, '%_mixed_race': 5.8, '%_hispanic_latino_of_other_race': 48.4, '%_catholic': 14.0, '%_jewish': 5.0}, {'jurisdiction': 'Staten Island', 'population_census': '443,728', '%_white': 77.6, '%_black_or_african_amercian': 9.7, '%_Asian': 5.7, '%_other': 4.3, '%_mixed_race': 2.7, '%_hispanic_latino_of_other_race': 12.1, '%_catholic': 11.0, '%_jewish': 5.0}, {'jurisdiction': 'NYC Total', 'population_census': '8,008,278', '%_white': 44.7, '%_black_or_african_amercian': 26.6, '%_Asian': 9.8, '%_other': 14.0, '%_mixed_race': 4.9, '%_hispanic_latino_of_other_race': 27.0, '%_catholic': 17.0, '%_jewish': 6.0}]\n"
     ]
    }
   ],
   "source": [
    "bronx_obj = requests.get('https://en.wikipedia.org/wiki/Demographics_of_New_York_City').text\n",
    "soup = BeautifulSoup(bronx_obj,'lxml')\n",
    "Census_Table = soup.select_one('.wikitable:nth-of-type(5)') \n",
    "\n",
    "jurisdictions = []\n",
    "rows = Census_Table.select(\"tbody > tr\")[3:8]\n",
    "for row in rows:\n",
    "    jurisdiction = {}\n",
    "    tds = row.select('td')\n",
    "    jurisdiction[\"jurisdiction\"] = tds[0].text.strip()\n",
    "    jurisdiction[\"population_census\"] = tds[1].text.strip()\n",
    "    jurisdiction[\"%_white\"] = float(tds[2].text.strip().replace(\",\",\"\"))\n",
    "    jurisdiction[\"%_black_or_african_amercian\"] = float(tds[3].text.strip().replace(\",\",\"\"))\n",
    "    jurisdiction[\"%_Asian\"] = float(tds[4].text.strip().replace(\",\",\"\"))\n",
    "    jurisdiction[\"%_other\"] = float(tds[5].text.strip().replace(\",\",\"\"))\n",
    "    jurisdiction[\"%_mixed_race\"] = float(tds[6].text.strip().replace(\",\",\"\"))\n",
    "    jurisdiction[\"%_hispanic_latino_of_other_race\"] = float(tds[7].text.strip().replace(\",\",\"\"))\n",
    "    jurisdiction[\"%_catholic\"] = float(tds[10].text.strip().replace(\",\",\"\"))\n",
    "    jurisdiction[\"%_jewish\"] = float(tds[12].text.strip().replace(\",\",\"\"))\n",
    "    jurisdictions.append(jurisdiction)\n",
    "\n",
    "print(jurisdictions)"
   ]
  },
  {
   "cell_type": "code",
   "execution_count": 60,
   "metadata": {},
   "outputs": [
    {
     "data": {
      "text/html": [
       "<div>\n",
       "<style scoped>\n",
       "    .dataframe tbody tr th:only-of-type {\n",
       "        vertical-align: middle;\n",
       "    }\n",
       "\n",
       "    .dataframe tbody tr th {\n",
       "        vertical-align: top;\n",
       "    }\n",
       "\n",
       "    .dataframe thead th {\n",
       "        text-align: right;\n",
       "    }\n",
       "</style>\n",
       "<table border=\"1\" class=\"dataframe\">\n",
       "  <thead>\n",
       "    <tr style=\"text-align: right;\">\n",
       "      <th></th>\n",
       "      <th>jurisdiction</th>\n",
       "      <th>%_white</th>\n",
       "      <th>%_black_or_african_amercian</th>\n",
       "      <th>%_Asian</th>\n",
       "      <th>%_other</th>\n",
       "      <th>%_mixed_race</th>\n",
       "      <th>%_hispanic_latino_of_other_race</th>\n",
       "    </tr>\n",
       "  </thead>\n",
       "  <tbody>\n",
       "    <tr>\n",
       "      <th>0</th>\n",
       "      <td>Queens</td>\n",
       "      <td>44.1</td>\n",
       "      <td>20.0</td>\n",
       "      <td>17.6</td>\n",
       "      <td>12.3</td>\n",
       "      <td>6.1</td>\n",
       "      <td>25.0</td>\n",
       "    </tr>\n",
       "    <tr>\n",
       "      <th>1</th>\n",
       "      <td>Manhattan</td>\n",
       "      <td>54.4</td>\n",
       "      <td>17.4</td>\n",
       "      <td>9.4</td>\n",
       "      <td>14.7</td>\n",
       "      <td>4.1</td>\n",
       "      <td>27.2</td>\n",
       "    </tr>\n",
       "    <tr>\n",
       "      <th>2</th>\n",
       "      <td>Bronx</td>\n",
       "      <td>29.9</td>\n",
       "      <td>35.6</td>\n",
       "      <td>3.0</td>\n",
       "      <td>25.7</td>\n",
       "      <td>5.8</td>\n",
       "      <td>48.4</td>\n",
       "    </tr>\n",
       "    <tr>\n",
       "      <th>3</th>\n",
       "      <td>Staten Island</td>\n",
       "      <td>77.6</td>\n",
       "      <td>9.7</td>\n",
       "      <td>5.7</td>\n",
       "      <td>4.3</td>\n",
       "      <td>2.7</td>\n",
       "      <td>12.1</td>\n",
       "    </tr>\n",
       "    <tr>\n",
       "      <th>4</th>\n",
       "      <td>NYC Total</td>\n",
       "      <td>44.7</td>\n",
       "      <td>26.6</td>\n",
       "      <td>9.8</td>\n",
       "      <td>14.0</td>\n",
       "      <td>4.9</td>\n",
       "      <td>27.0</td>\n",
       "    </tr>\n",
       "  </tbody>\n",
       "</table>\n",
       "</div>"
      ],
      "text/plain": [
       "    jurisdiction  %_white  %_black_or_african_amercian  %_Asian  %_other  \\\n",
       "0         Queens     44.1                         20.0     17.6     12.3   \n",
       "1      Manhattan     54.4                         17.4      9.4     14.7   \n",
       "2          Bronx     29.9                         35.6      3.0     25.7   \n",
       "3  Staten Island     77.6                          9.7      5.7      4.3   \n",
       "4      NYC Total     44.7                         26.6      9.8     14.0   \n",
       "\n",
       "   %_mixed_race  %_hispanic_latino_of_other_race  \n",
       "0           6.1                             25.0  \n",
       "1           4.1                             27.2  \n",
       "2           5.8                             48.4  \n",
       "3           2.7                             12.1  \n",
       "4           4.9                             27.0  "
      ]
     },
     "execution_count": 60,
     "metadata": {},
     "output_type": "execute_result"
    }
   ],
   "source": [
    "df = pd.DataFrame(jurisdictions, columns=[\"jurisdiction\",\"%_white\", \"%_black_or_african_amercian\", \"%_Asian\", \"%_other\", \"%_mixed_race\", \"%_hispanic_latino_of_other_race\"])\n",
    "df.head()"
   ]
  },
  {
   "cell_type": "code",
   "execution_count": null,
   "metadata": {},
   "outputs": [],
   "source": [
    "#The Bronx has the highest rate of Hispanics and Fordham has the highest rate of Spanish restaurants"
   ]
  },
  {
   "cell_type": "code",
   "execution_count": 54,
   "metadata": {},
   "outputs": [
    {
     "data": {
      "text/html": [
       "<div>\n",
       "<style scoped>\n",
       "    .dataframe tbody tr th:only-of-type {\n",
       "        vertical-align: middle;\n",
       "    }\n",
       "\n",
       "    .dataframe tbody tr th {\n",
       "        vertical-align: top;\n",
       "    }\n",
       "\n",
       "    .dataframe thead th {\n",
       "        text-align: right;\n",
       "    }\n",
       "</style>\n",
       "<table border=\"1\" class=\"dataframe\">\n",
       "  <thead>\n",
       "    <tr style=\"text-align: right;\">\n",
       "      <th></th>\n",
       "      <th>Borough</th>\n",
       "      <th>Neighborhood</th>\n",
       "      <th>ID</th>\n",
       "      <th>Name</th>\n",
       "    </tr>\n",
       "  </thead>\n",
       "  <tbody>\n",
       "    <tr>\n",
       "      <th>20</th>\n",
       "      <td>Bronx</td>\n",
       "      <td>Fordham</td>\n",
       "      <td>4cf9d4d12d80a14383df40d8</td>\n",
       "      <td>Kasike Mofongo House</td>\n",
       "    </tr>\n",
       "    <tr>\n",
       "      <th>21</th>\n",
       "      <td>Bronx</td>\n",
       "      <td>Fordham</td>\n",
       "      <td>4bb7b71998c7ef3bf03e3002</td>\n",
       "      <td>Three  Spanish  Restaurant</td>\n",
       "    </tr>\n",
       "    <tr>\n",
       "      <th>22</th>\n",
       "      <td>Bronx</td>\n",
       "      <td>Fordham</td>\n",
       "      <td>4c6c82f56af58cfac5248717</td>\n",
       "      <td>Elsa La Reina Del Chicharrón (Elsa The Queen O...</td>\n",
       "    </tr>\n",
       "    <tr>\n",
       "      <th>23</th>\n",
       "      <td>Bronx</td>\n",
       "      <td>Fordham</td>\n",
       "      <td>4e4d0392bd413c4cc66dfde5</td>\n",
       "      <td>Shalon Restaurant</td>\n",
       "    </tr>\n",
       "    <tr>\n",
       "      <th>24</th>\n",
       "      <td>Bronx</td>\n",
       "      <td>Fordham</td>\n",
       "      <td>4c9fcdfc8afca09381840d16</td>\n",
       "      <td>Liberato</td>\n",
       "    </tr>\n",
       "  </tbody>\n",
       "</table>\n",
       "</div>"
      ],
      "text/plain": [
       "   Borough Neighborhood                        ID  \\\n",
       "20   Bronx      Fordham  4cf9d4d12d80a14383df40d8   \n",
       "21   Bronx      Fordham  4bb7b71998c7ef3bf03e3002   \n",
       "22   Bronx      Fordham  4c6c82f56af58cfac5248717   \n",
       "23   Bronx      Fordham  4e4d0392bd413c4cc66dfde5   \n",
       "24   Bronx      Fordham  4c9fcdfc8afca09381840d16   \n",
       "\n",
       "                                                 Name  \n",
       "20                               Kasike Mofongo House  \n",
       "21                         Three  Spanish  Restaurant  \n",
       "22  Elsa La Reina Del Chicharrón (Elsa The Queen O...  \n",
       "23                                  Shalon Restaurant  \n",
       "24                                           Liberato  "
      ]
     },
     "execution_count": 54,
     "metadata": {},
     "output_type": "execute_result"
    }
   ],
   "source": [
    "spanish_rest_ny[spanish_rest_ny['Neighborhood']=='Fordham']"
   ]
  },
  {
   "cell_type": "code",
   "execution_count": 63,
   "metadata": {},
   "outputs": [
    {
     "name": "stdout",
     "output_type": "stream",
     "text": [
      "No data available for id= 4bec3ac661aca5935cfe8500\n",
      "( 1 / 79 ) processed\n",
      "No data available for id= 58a9ca678ae363643f8827a2\n",
      "( 2 / 79 ) processed\n",
      "No data available for id= 4ca785a597c8a1cd7e577ba5\n",
      "( 3 / 79 ) processed\n",
      "No data available for id= 50ea5611e4b044bdeead3ade\n",
      "( 4 / 79 ) processed\n",
      "No data available for id= 4ca785a597c8a1cd7e577ba5\n",
      "( 5 / 79 ) processed\n",
      "No data available for id= 50ea5611e4b044bdeead3ade\n",
      "( 6 / 79 ) processed\n",
      "No data available for id= 4e3448cd6284ea7e10f38a0f\n",
      "( 7 / 79 ) processed\n",
      "No data available for id= 503563a1e4b0aae9b2dbc830\n",
      "( 8 / 79 ) processed\n",
      "No data available for id= 4cdadbde958f236a337da903\n",
      "( 9 / 79 ) processed\n",
      "No data available for id= 4b7435aef964a52042cd2de3\n",
      "( 10 / 79 ) processed\n",
      "No data available for id= 4be2ecf6b02ec9b6a5064ec0\n",
      "( 11 / 79 ) processed\n",
      "No data available for id= 58a9ca678ae363643f8827a2\n",
      "( 12 / 79 ) processed\n",
      "No data available for id= 531f7ea1498e56210466e0bd\n",
      "( 13 / 79 ) processed\n",
      "No data available for id= 4e4d0392bd413c4cc66dfde5\n",
      "( 14 / 79 ) processed\n",
      "No data available for id= 519aae54498ec1fda8c8ae81\n",
      "( 15 / 79 ) processed\n",
      "No data available for id= 4c9fcdfc8afca09381840d16\n",
      "( 16 / 79 ) processed\n",
      "No data available for id= 4c6c82f56af58cfac5248717\n",
      "( 17 / 79 ) processed\n",
      "No data available for id= 4cd21cee1ac7a1cd743b2392\n",
      "( 18 / 79 ) processed\n",
      "No data available for id= 4e39863dae60f589a5dc0dcb\n",
      "( 19 / 79 ) processed\n",
      "No data available for id= 4cd21cee1ac7a1cd743b2392\n",
      "( 20 / 79 ) processed\n",
      "No data available for id= 4cf9d4d12d80a14383df40d8\n",
      "( 21 / 79 ) processed\n",
      "No data available for id= 4bb7b71998c7ef3bf03e3002\n",
      "( 22 / 79 ) processed\n",
      "No data available for id= 4c6c82f56af58cfac5248717\n",
      "( 23 / 79 ) processed\n",
      "No data available for id= 4e4d0392bd413c4cc66dfde5\n",
      "( 24 / 79 ) processed\n",
      "No data available for id= 4c9fcdfc8afca09381840d16\n",
      "( 25 / 79 ) processed\n",
      "No data available for id= 4ba52d35f964a52002e838e3\n",
      "( 26 / 79 ) processed\n",
      "No data available for id= 54cbc8e7498e0db58a4110cc\n",
      "( 27 / 79 ) processed\n",
      "No data available for id= 4ba52d35f964a52002e838e3\n",
      "( 28 / 79 ) processed\n",
      "No data available for id= 4c096282009a0f479bade7bf\n",
      "( 29 / 79 ) processed\n",
      "No data available for id= 54cbc8e7498e0db58a4110cc\n",
      "( 30 / 79 ) processed\n",
      "No data available for id= 4c9ca8fc54c8a1cd9e057c4b\n",
      "( 31 / 79 ) processed\n",
      "No data available for id= 4c096282009a0f479bade7bf\n",
      "( 32 / 79 ) processed\n",
      "No data available for id= 4c8be9fa509e3704e0822e55\n",
      "( 33 / 79 ) processed\n",
      "No data available for id= 4eed3d759a52993fb7108490\n",
      "( 34 / 79 ) processed\n",
      "No data available for id= 4c9d47ea46978cfa6244967f\n",
      "( 35 / 79 ) processed\n",
      "No data available for id= 4b68b130f964a52071872be3\n",
      "( 36 / 79 ) processed\n",
      "No data available for id= 4b8db810f964a5206a0a33e3\n",
      "( 37 / 79 ) processed\n",
      "No data available for id= 4c9d47ea46978cfa6244967f\n",
      "( 38 / 79 ) processed\n",
      "No data available for id= 4eb28c8cb80348350a17ede6\n",
      "( 39 / 79 ) processed\n",
      "No data available for id= 4c9d47ea46978cfa6244967f\n",
      "( 40 / 79 ) processed\n",
      "No data available for id= 4b68b130f964a52071872be3\n",
      "( 41 / 79 ) processed\n",
      "No data available for id= 4cf9d4d12d80a14383df40d8\n",
      "( 42 / 79 ) processed\n",
      "No data available for id= 4bb7b71998c7ef3bf03e3002\n",
      "( 43 / 79 ) processed\n",
      "No data available for id= 4be2ecf6b02ec9b6a5064ec0\n",
      "( 44 / 79 ) processed\n",
      "No data available for id= 4ee799918b81381c2a21569e\n",
      "( 45 / 79 ) processed\n",
      "No data available for id= 531285f5498e27c059004eee\n",
      "( 46 / 79 ) processed\n",
      "No data available for id= 4f9318bce4b020d1a307e453\n",
      "( 47 / 79 ) processed\n",
      "No data available for id= 4beaf1366295c9b61a118708\n",
      "( 48 / 79 ) processed\n",
      "No data available for id= 4f417b63e4b0e40825f97da7\n",
      "( 49 / 79 ) processed\n",
      "No data available for id= 4e98bc8a722e25a7f58252fb\n",
      "( 50 / 79 ) processed\n",
      "No data available for id= 4a63ae85f964a52093c51fe3\n",
      "( 51 / 79 ) processed\n",
      "No data available for id= 506ef5e6e4b06f9dbb264036\n",
      "( 52 / 79 ) processed\n",
      "No data available for id= 4f6e5ea9e4b086107787908b\n",
      "( 53 / 79 ) processed\n",
      "No data available for id= 4da6df516a230db30ecb5955\n",
      "( 54 / 79 ) processed\n",
      "No data available for id= 53f686a4498e7b09596566b4\n",
      "( 55 / 79 ) processed\n",
      "No data available for id= 57811b1f498e9779eb16f09e\n",
      "( 56 / 79 ) processed\n",
      "No data available for id= 4d6406babd253704eba5d4c5\n",
      "( 57 / 79 ) processed\n",
      "No data available for id= 58c55f8f13c2236f0d38a4b4\n",
      "( 58 / 79 ) processed\n",
      "No data available for id= 53f686a4498e7b09596566b4\n",
      "( 59 / 79 ) processed\n",
      "No data available for id= 59480a78f62e090a3b4d6eb7\n",
      "( 60 / 79 ) processed\n",
      "No data available for id= 4acce300f964a520e2c920e3\n",
      "( 61 / 79 ) processed\n",
      "No data available for id= 4bb8cdb053649c74465847fb\n",
      "( 62 / 79 ) processed\n",
      "No data available for id= 4c5d84496ebe2d7f97f9d22e\n",
      "( 63 / 79 ) processed\n",
      "No data available for id= 4c043cd3f423a593955dd116\n",
      "( 64 / 79 ) processed\n",
      "No data available for id= 4bcdd0a6fb84c9b61c98223e\n",
      "( 65 / 79 ) processed\n",
      "No data available for id= 4ba2b7f2f964a5202f1338e3\n",
      "( 66 / 79 ) processed\n",
      "No data available for id= 4b55274bf964a52006dd27e3\n",
      "( 67 / 79 ) processed\n",
      "No data available for id= 4a2edc71f964a5206f981fe3\n",
      "( 68 / 79 ) processed\n",
      "No data available for id= 4b55274bf964a52006dd27e3\n",
      "( 69 / 79 ) processed\n",
      "No data available for id= 4bdb64a82a3a0f471cd8aeb6\n",
      "( 70 / 79 ) processed\n",
      "No data available for id= 4b9466d7f964a520ee7734e3\n",
      "( 71 / 79 ) processed\n",
      "No data available for id= 4bca3ca70687ef3b5ca3dbcc\n",
      "( 72 / 79 ) processed\n",
      "No data available for id= 542a0b46498e786c48692618\n",
      "( 73 / 79 ) processed\n",
      "No data available for id= 542a0b46498e786c48692618\n",
      "( 74 / 79 ) processed\n",
      "No data available for id= 4bca3ca70687ef3b5ca3dbcc\n",
      "( 75 / 79 ) processed\n",
      "No data available for id= 533721a0498e78372d14112c\n",
      "( 76 / 79 ) processed\n",
      "No data available for id= 45697387f964a520e53d1fe3\n",
      "( 77 / 79 ) processed\n",
      "No data available for id= 45697387f964a520e53d1fe3\n",
      "( 78 / 79 ) processed\n",
      "No data available for id= 457ebe82f964a5203e3f1fe3\n",
      "( 79 / 79 ) processed\n"
     ]
    }
   ],
   "source": [
    "# Fordham is the neighbourhood with the most Spanish restaurants. But let's see a classification of them by rating\n",
    "column_names=['Borough', 'Neighborhood', 'ID','Name','Likes','Rating','Tips']\n",
    "spanish_rest_stats_ny=pd.DataFrame(columns=column_names)\n",
    "count=1\n",
    "\n",
    "for row in spanish_rest_ny.values.tolist():\n",
    "    Borough,Neighborhood,ID,Name=row\n",
    "\n",
    "\n",
    "column_names=['Borough', 'Neighborhood', 'ID','Name','Likes','Rating','Tips']\n",
    "spanish_rest_stats_ny=pd.DataFrame(columns=column_names)\n",
    "count=1\n",
    "\n",
    "\n",
    "for row in spanish_rest_ny.values.tolist():\n",
    "    Borough,Neighborhood,ID,Name=row\n",
    "    try:\n",
    "        venue_details=get_venue_details(ID)\n",
    "        print(venue_details)\n",
    "        id,name,likes,rating,tips=venue_details.values.tolist()[0]\n",
    "    except (IndexError, KeyError) as e:\n",
    "        print('No data available for id=',ID)\n",
    "        id,name,likes,rating,tips=[0]*5\n",
    "    print('(',count,'/',len(spanish_rest_ny),')','processed')\n",
    "    spanish_rest_stats_ny = spanish_rest_stats_ny.append({'Borough': Borough,\n",
    "                                                'Neighborhood': Neighborhood, \n",
    "                                                'ID': id,\n",
    "                                                'Name' : name,\n",
    "                                                'Likes' : likes,\n",
    "                                                'Rating' : rating,\n",
    "                                                'Tips' : tips\n",
    "                                               }, ignore_index=True)\n",
    "    count+=1"
   ]
  },
  {
   "cell_type": "code",
   "execution_count": 58,
   "metadata": {},
   "outputs": [],
   "source": [
    "#When we get all the data from the restaurants we save them in a csv as we have the limit per day at 500. \n",
    "\n",
    "spanish_rest_stats_ny.to_csv('spanish_rest_stats_ny.csv', index=False)"
   ]
  },
  {
   "cell_type": "code",
   "execution_count": 8,
   "metadata": {},
   "outputs": [],
   "source": [
    "spanish_rest_stats_ny_csv=pd.read_csv('spanish_rest_stats_ny.csv')"
   ]
  },
  {
   "cell_type": "code",
   "execution_count": 9,
   "metadata": {},
   "outputs": [
    {
     "data": {
      "text/plain": [
       "(115, 7)"
      ]
     },
     "execution_count": 9,
     "metadata": {},
     "output_type": "execute_result"
    }
   ],
   "source": [
    "spanish_rest_stats_ny_csv.shape"
   ]
  },
  {
   "cell_type": "code",
   "execution_count": 29,
   "metadata": {},
   "outputs": [
    {
     "data": {
      "text/html": [
       "<div>\n",
       "<style scoped>\n",
       "    .dataframe tbody tr th:only-of-type {\n",
       "        vertical-align: middle;\n",
       "    }\n",
       "\n",
       "    .dataframe tbody tr th {\n",
       "        vertical-align: top;\n",
       "    }\n",
       "\n",
       "    .dataframe thead th {\n",
       "        text-align: right;\n",
       "    }\n",
       "</style>\n",
       "<table border=\"1\" class=\"dataframe\">\n",
       "  <thead>\n",
       "    <tr style=\"text-align: right;\">\n",
       "      <th></th>\n",
       "      <th>Borough</th>\n",
       "      <th>Neighborhood</th>\n",
       "      <th>ID</th>\n",
       "      <th>Name</th>\n",
       "      <th>Likes</th>\n",
       "      <th>Rating</th>\n",
       "      <th>Tips</th>\n",
       "    </tr>\n",
       "  </thead>\n",
       "  <tbody>\n",
       "    <tr>\n",
       "      <th>0</th>\n",
       "      <td>Bronx</td>\n",
       "      <td>Wakefield</td>\n",
       "      <td>0</td>\n",
       "      <td>0</td>\n",
       "      <td>0.0</td>\n",
       "      <td>0.0</td>\n",
       "      <td>0</td>\n",
       "    </tr>\n",
       "    <tr>\n",
       "      <th>1</th>\n",
       "      <td>Bronx</td>\n",
       "      <td>Co-op City</td>\n",
       "      <td>58a9ca678ae363643f8827a2</td>\n",
       "      <td>Sangria Cafe</td>\n",
       "      <td>7.0</td>\n",
       "      <td>7.2</td>\n",
       "      <td>3</td>\n",
       "    </tr>\n",
       "    <tr>\n",
       "      <th>2</th>\n",
       "      <td>Bronx</td>\n",
       "      <td>Kingsbridge</td>\n",
       "      <td>4ca785a597c8a1cd7e577ba5</td>\n",
       "      <td>El Economico Restaurant</td>\n",
       "      <td>18.0</td>\n",
       "      <td>7.6</td>\n",
       "      <td>8</td>\n",
       "    </tr>\n",
       "    <tr>\n",
       "      <th>3</th>\n",
       "      <td>Bronx</td>\n",
       "      <td>Kingsbridge</td>\n",
       "      <td>50ea5611e4b044bdeead3ade</td>\n",
       "      <td>Q'Kachapa</td>\n",
       "      <td>16.0</td>\n",
       "      <td>7.3</td>\n",
       "      <td>6</td>\n",
       "    </tr>\n",
       "    <tr>\n",
       "      <th>4</th>\n",
       "      <td>Manhattan</td>\n",
       "      <td>Marble Hill</td>\n",
       "      <td>4ca785a597c8a1cd7e577ba5</td>\n",
       "      <td>El Economico Restaurant</td>\n",
       "      <td>18.0</td>\n",
       "      <td>7.6</td>\n",
       "      <td>8</td>\n",
       "    </tr>\n",
       "  </tbody>\n",
       "</table>\n",
       "</div>"
      ],
      "text/plain": [
       "     Borough Neighborhood                        ID                     Name  \\\n",
       "0      Bronx    Wakefield                         0                        0   \n",
       "1      Bronx   Co-op City  58a9ca678ae363643f8827a2             Sangria Cafe   \n",
       "2      Bronx  Kingsbridge  4ca785a597c8a1cd7e577ba5  El Economico Restaurant   \n",
       "3      Bronx  Kingsbridge  50ea5611e4b044bdeead3ade                Q'Kachapa   \n",
       "4  Manhattan  Marble Hill  4ca785a597c8a1cd7e577ba5  El Economico Restaurant   \n",
       "\n",
       "   Likes  Rating  Tips  \n",
       "0    0.0     0.0     0  \n",
       "1    7.0     7.2     3  \n",
       "2   18.0     7.6     8  \n",
       "3   16.0     7.3     6  \n",
       "4   18.0     7.6     8  "
      ]
     },
     "execution_count": 29,
     "metadata": {},
     "output_type": "execute_result"
    }
   ],
   "source": [
    "spanish_rest_stats_ny_csv.head()"
   ]
  },
  {
   "cell_type": "code",
   "execution_count": 12,
   "metadata": {},
   "outputs": [
    {
     "name": "stdout",
     "output_type": "stream",
     "text": [
      "<class 'pandas.core.frame.DataFrame'>\n",
      "RangeIndex: 115 entries, 0 to 114\n",
      "Data columns (total 7 columns):\n",
      " #   Column        Non-Null Count  Dtype  \n",
      "---  ------        --------------  -----  \n",
      " 0   Borough       115 non-null    object \n",
      " 1   Neighborhood  115 non-null    object \n",
      " 2   ID            115 non-null    object \n",
      " 3   Name          115 non-null    object \n",
      " 4   Likes         115 non-null    int64  \n",
      " 5   Rating        115 non-null    float64\n",
      " 6   Tips          115 non-null    int64  \n",
      "dtypes: float64(1), int64(2), object(4)\n",
      "memory usage: 6.4+ KB\n"
     ]
    }
   ],
   "source": [
    "spanish_rest_stats_ny_csv.info()"
   ]
  },
  {
   "cell_type": "code",
   "execution_count": 13,
   "metadata": {},
   "outputs": [],
   "source": [
    "spanish_rest_stats_ny_csv['Likes']=spanish_rest_stats_ny_csv['Likes'].astype('float64')"
   ]
  },
  {
   "cell_type": "code",
   "execution_count": 14,
   "metadata": {},
   "outputs": [],
   "source": [
    "spanish_rest_stats_ny_csv['Rating']=spanish_rest_stats_ny_csv['Rating'].astype('float64')"
   ]
  },
  {
   "cell_type": "code",
   "execution_count": 16,
   "metadata": {},
   "outputs": [
    {
     "data": {
      "text/plain": [
       "Borough                            Bronx\n",
       "Neighborhood                  Baychester\n",
       "ID              4be2ecf6b02ec9b6a5064ec0\n",
       "Name                     Caridad & Louie\n",
       "Likes                                 66\n",
       "Rating                                 8\n",
       "Tips                                  27\n",
       "Name: 10, dtype: object"
      ]
     },
     "execution_count": 16,
     "metadata": {},
     "output_type": "execute_result"
    }
   ],
   "source": [
    "#Likes\n",
    "spanish_rest_stats_ny_csv.iloc[spanish_rest_stats_ny_csv['Likes'].idxmax()]"
   ]
  },
  {
   "cell_type": "code",
   "execution_count": 17,
   "metadata": {},
   "outputs": [
    {
     "name": "stdout",
     "output_type": "stream",
     "text": [
      "<class 'pandas.core.frame.DataFrame'>\n",
      "RangeIndex: 115 entries, 0 to 114\n",
      "Data columns (total 7 columns):\n",
      " #   Column        Non-Null Count  Dtype  \n",
      "---  ------        --------------  -----  \n",
      " 0   Borough       115 non-null    object \n",
      " 1   Neighborhood  115 non-null    object \n",
      " 2   ID            115 non-null    object \n",
      " 3   Name          115 non-null    object \n",
      " 4   Likes         115 non-null    float64\n",
      " 5   Rating        115 non-null    float64\n",
      " 6   Tips          115 non-null    int64  \n",
      "dtypes: float64(2), int64(1), object(4)\n",
      "memory usage: 6.4+ KB\n"
     ]
    }
   ],
   "source": [
    "spanish_rest_stats_ny_csv.info()"
   ]
  },
  {
   "cell_type": "code",
   "execution_count": 18,
   "metadata": {},
   "outputs": [
    {
     "data": {
      "text/plain": [
       "Borough                            Bronx\n",
       "Neighborhood                 Parkchester\n",
       "ID              4c8be9fa509e3704e0822e55\n",
       "Name                      Brisas Express\n",
       "Likes                                  9\n",
       "Rating                               8.4\n",
       "Tips                                   6\n",
       "Name: 32, dtype: object"
      ]
     },
     "execution_count": 18,
     "metadata": {},
     "output_type": "execute_result"
    }
   ],
   "source": [
    "spanish_rest_stats_ny_csv.iloc[spanish_rest_stats_ny_csv['Rating'].idxmax()]"
   ]
  },
  {
   "cell_type": "code",
   "execution_count": 19,
   "metadata": {},
   "outputs": [
    {
     "data": {
      "text/plain": [
       "Borough             Bronx\n",
       "Neighborhood    Wakefield\n",
       "ID                      0\n",
       "Name                    0\n",
       "Likes                   0\n",
       "Rating                  0\n",
       "Tips                    0\n",
       "Name: 0, dtype: object"
      ]
     },
     "execution_count": 19,
     "metadata": {},
     "output_type": "execute_result"
    }
   ],
   "source": [
    "spanish_rest_stats_ny_csv.iloc[spanish_rest_stats_ny_csv['Rating'].idxmin()]"
   ]
  },
  {
   "cell_type": "code",
   "execution_count": 20,
   "metadata": {},
   "outputs": [],
   "source": [
    "ny_neighborhood_stats=spanish_rest_stats_ny_csv.groupby('Neighborhood',as_index=False).mean()[['Neighborhood','Rating']]\n",
    "ny_neighborhood_stats.columns=['Neighborhood','Average Rating']"
   ]
  },
  {
   "cell_type": "code",
   "execution_count": 57,
   "metadata": {},
   "outputs": [
    {
     "data": {
      "text/html": [
       "<div>\n",
       "<style scoped>\n",
       "    .dataframe tbody tr th:only-of-type {\n",
       "        vertical-align: middle;\n",
       "    }\n",
       "\n",
       "    .dataframe tbody tr th {\n",
       "        vertical-align: top;\n",
       "    }\n",
       "\n",
       "    .dataframe thead th {\n",
       "        text-align: right;\n",
       "    }\n",
       "</style>\n",
       "<table border=\"1\" class=\"dataframe\">\n",
       "  <thead>\n",
       "    <tr style=\"text-align: right;\">\n",
       "      <th></th>\n",
       "      <th>Neighborhood</th>\n",
       "      <th>Average Rating</th>\n",
       "    </tr>\n",
       "  </thead>\n",
       "  <tbody>\n",
       "    <tr>\n",
       "      <th>60</th>\n",
       "      <td>Parkchester</td>\n",
       "      <td>7.766667</td>\n",
       "    </tr>\n",
       "    <tr>\n",
       "      <th>52</th>\n",
       "      <td>Mott Haven</td>\n",
       "      <td>7.600000</td>\n",
       "    </tr>\n",
       "    <tr>\n",
       "      <th>1</th>\n",
       "      <td>Baychester</td>\n",
       "      <td>7.600000</td>\n",
       "    </tr>\n",
       "    <tr>\n",
       "      <th>39</th>\n",
       "      <td>Kingsbridge</td>\n",
       "      <td>7.450000</td>\n",
       "    </tr>\n",
       "    <tr>\n",
       "      <th>14</th>\n",
       "      <td>Co-op City</td>\n",
       "      <td>7.200000</td>\n",
       "    </tr>\n",
       "    <tr>\n",
       "      <th>28</th>\n",
       "      <td>Fordham</td>\n",
       "      <td>7.080000</td>\n",
       "    </tr>\n",
       "    <tr>\n",
       "      <th>4</th>\n",
       "      <td>Belmont</td>\n",
       "      <td>7.050000</td>\n",
       "    </tr>\n",
       "    <tr>\n",
       "      <th>49</th>\n",
       "      <td>Morris Heights</td>\n",
       "      <td>6.900000</td>\n",
       "    </tr>\n",
       "    <tr>\n",
       "      <th>71</th>\n",
       "      <td>University Heights</td>\n",
       "      <td>6.800000</td>\n",
       "    </tr>\n",
       "    <tr>\n",
       "      <th>36</th>\n",
       "      <td>Hunts Point</td>\n",
       "      <td>6.600000</td>\n",
       "    </tr>\n",
       "  </tbody>\n",
       "</table>\n",
       "</div>"
      ],
      "text/plain": [
       "          Neighborhood  Average Rating\n",
       "60         Parkchester        7.766667\n",
       "52          Mott Haven        7.600000\n",
       "1           Baychester        7.600000\n",
       "39         Kingsbridge        7.450000\n",
       "14          Co-op City        7.200000\n",
       "28             Fordham        7.080000\n",
       "4              Belmont        7.050000\n",
       "49      Morris Heights        6.900000\n",
       "71  University Heights        6.800000\n",
       "36         Hunts Point        6.600000"
      ]
     },
     "execution_count": 57,
     "metadata": {},
     "output_type": "execute_result"
    }
   ],
   "source": [
    "ny_neighborhood_stats.sort_values(['Average Rating'],ascending=False).head(10)\n"
   ]
  },
  {
   "cell_type": "code",
   "execution_count": 21,
   "metadata": {},
   "outputs": [],
   "source": [
    "ny_borough_stats=spanish_rest_stats_ny_csv.groupby('Borough',as_index=False).mean()[['Borough','Rating']]\n",
    "ny_borough_stats.columns=['Borough','Average Rating']"
   ]
  },
  {
   "cell_type": "code",
   "execution_count": 22,
   "metadata": {},
   "outputs": [
    {
     "data": {
      "text/html": [
       "<div>\n",
       "<style scoped>\n",
       "    .dataframe tbody tr th:only-of-type {\n",
       "        vertical-align: middle;\n",
       "    }\n",
       "\n",
       "    .dataframe tbody tr th {\n",
       "        vertical-align: top;\n",
       "    }\n",
       "\n",
       "    .dataframe thead th {\n",
       "        text-align: right;\n",
       "    }\n",
       "</style>\n",
       "<table border=\"1\" class=\"dataframe\">\n",
       "  <thead>\n",
       "    <tr style=\"text-align: right;\">\n",
       "      <th></th>\n",
       "      <th>Borough</th>\n",
       "      <th>Average Rating</th>\n",
       "    </tr>\n",
       "  </thead>\n",
       "  <tbody>\n",
       "    <tr>\n",
       "      <th>0</th>\n",
       "      <td>Bronx</td>\n",
       "      <td>4.819231</td>\n",
       "    </tr>\n",
       "    <tr>\n",
       "      <th>1</th>\n",
       "      <td>Brooklyn</td>\n",
       "      <td>0.740000</td>\n",
       "    </tr>\n",
       "    <tr>\n",
       "      <th>2</th>\n",
       "      <td>Manhattan</td>\n",
       "      <td>0.596000</td>\n",
       "    </tr>\n",
       "    <tr>\n",
       "      <th>3</th>\n",
       "      <td>Queens</td>\n",
       "      <td>0.000000</td>\n",
       "    </tr>\n",
       "    <tr>\n",
       "      <th>4</th>\n",
       "      <td>Staten Island</td>\n",
       "      <td>0.000000</td>\n",
       "    </tr>\n",
       "  </tbody>\n",
       "</table>\n",
       "</div>"
      ],
      "text/plain": [
       "         Borough  Average Rating\n",
       "0          Bronx        4.819231\n",
       "1       Brooklyn        0.740000\n",
       "2      Manhattan        0.596000\n",
       "3         Queens        0.000000\n",
       "4  Staten Island        0.000000"
      ]
     },
     "execution_count": 22,
     "metadata": {},
     "output_type": "execute_result"
    }
   ],
   "source": [
    "ny_borough_stats.sort_values(['Average Rating'],ascending=False).head()\n"
   ]
  },
  {
   "cell_type": "code",
   "execution_count": 24,
   "metadata": {},
   "outputs": [
    {
     "data": {
      "image/png": "[encoded data removed]",
      "text/plain": [
       "<Figure size 900x500 with 1 Axes>"
      ]
     },
     "metadata": {
      "needs_background": "light"
     },
     "output_type": "display_data"
    }
   ],
   "source": [
    "plt.figure(figsize=(9,5), dpi = 100)\n",
    "# title\n",
    "plt.title('Rating Spanish Restaurant NYC Borough')\n",
    "#On x-axis\n",
    "plt.xlabel('Borough', fontsize = 15)\n",
    "#On y-axis\n",
    "plt.ylabel('Average Rating', fontsize=15)\n",
    "#giving a bar plot\n",
    "spanish_rest_stats_ny_csv.groupby('Borough').mean()['Rating'].plot(kind='bar')\n",
    "#legend\n",
    "plt.legend()\n",
    "#displays the plot\n",
    "plt.show()"
   ]
  },
  {
   "cell_type": "code",
   "execution_count": null,
   "metadata": {},
   "outputs": [],
   "source": [
    "#The Bronx has the highest number of restaurants, with an average of the best opinion of them, and the Fordham neighborhood has the highest number of Spanish restaurants"
   ]
  }
 ],
 "metadata": {
  "kernelspec": {
   "display_name": "Python 3",
   "language": "python",
   "name": "python3"
  },
  "language_info": {
   "codemirror_mode": {
    "name": "ipython",
    "version": 3
   },
   "file_extension": ".py",
   "mimetype": "text/x-python",
   "name": "python",
   "nbconvert_exporter": "python",
   "pygments_lexer": "ipython3",
   "version": "3.8.3"
  }
 },
 "nbformat": 4,
 "nbformat_minor": 4
}
